{
 "cells": [
  {
   "cell_type": "markdown",
   "id": "27519566-7852-4206-b4c5-6bd98f101dae",
   "metadata": {},
   "source": [
    "Q1. What is Abstraction in OOps? Explain with an example."
   ]
  },
  {
   "cell_type": "markdown",
   "id": "cd4c98a8-7123-43f4-ba1e-c4c1d3301627",
   "metadata": {},
   "source": [
    "Abstraction is a process of hiding complex implementation details and exposing only essential features to the users. It is a key concept in \n",
    "object-oriented programming and allows programmers to focus on the essential aspects of an object and ignore the unnecessary details.\n",
    "\n",
    "In Pyhton , abstractiom can be achieved through the user of abstract classes and interfaces. An abstract class is a class that cannot be\n",
    "instantiated, and its purpose is to provide a blueprint for other classes to inheeit from. An interface is a set of methods that a class must\n",
    "implement."
   ]
  },
  {
   "cell_type": "code",
   "execution_count": 1,
   "id": "ef4859f1-9a16-47a7-8716-2ae785b9a3e0",
   "metadata": {},
   "outputs": [],
   "source": [
    "from abc import ABC, abstractmethod\n",
    "\n",
    "class Vehicle(ABC):\n",
    "    @abstractmethod\n",
    "    def start(self):\n",
    "        pass\n",
    "    \n",
    "    @abstractmethod\n",
    "    def stop(self):\n",
    "        pass\n",
    "\n",
    "class Car(Vehicle):\n",
    "    def start(self):\n",
    "        print(\"Car started\")\n",
    "    def stop(self):\n",
    "        print(\"Car stopped\")"
   ]
  },
  {
   "cell_type": "code",
   "execution_count": 5,
   "id": "04a005d8-6b65-44f6-8fd7-733e63a177d5",
   "metadata": {},
   "outputs": [
    {
     "name": "stdout",
     "output_type": "stream",
     "text": [
      "Car started\n",
      "Car stopped\n"
     ]
    }
   ],
   "source": [
    "car = Car()\n",
    "car.start()  # output: Car started   \n",
    "car.stop()  # output: Car stopped"
   ]
  },
  {
   "cell_type": "markdown",
   "id": "4f5fdbe5-d398-490b-a518-61760e651dd5",
   "metadata": {},
   "source": [
    "Q2. Differentiate between Abstraction and Encapsulation. Explain with an example."
   ]
  },
  {
   "cell_type": "markdown",
   "id": "07fedf65-4311-4325-abef-d799c7726cb8",
   "metadata": {},
   "source": [
    "Abstraction is the process of hiding the implementation details and exposing only the necessary information to the user. \n",
    "It focuses on creating a simplified view of a complex system by ignoring the irrelevant details. Abstraction can be achieved \n",
    "using abstract classes, interfaces, or methods in programming.\n",
    "\n",
    "\n",
    "On the other hand, Encapsulation is the process of wrapping data and code into a single unit, known as a class. \n",
    "It is a way to protect data from unauthorized access or modification by restricting access to the internal details of a class. \n",
    "Encapsulation can be achieved using access modifiers such as public, private, and protected in programming.\n",
    "\n",
    "In simple terms, Abstraction focuses on what the object does, while Encapsulation focuses on how it does it."
   ]
  },
  {
   "cell_type": "code",
   "execution_count": 6,
   "id": "e404f850-a613-46f8-a665-8bbe4f055255",
   "metadata": {},
   "outputs": [],
   "source": [
    "# Example of Abstraction using an abstract class\n",
    "\n",
    "from abc import ABC, abstractmethod\n",
    "\n",
    "class Shape(ABC):\n",
    "    @abstractmethod\n",
    "    def area(self):\n",
    "        pass\n",
    "    \n",
    "    @abstractmethod\n",
    "    def perimeter(self):\n",
    "        pass\n",
    "    \n",
    "class Circle(Shape):\n",
    "    def __init__(self, radius):\n",
    "        self.radius = radius\n",
    "    \n",
    "    def area(self):\n",
    "        return 3.14 * self.radius ** 2\n",
    "    \n",
    "    def perimeter(self):\n",
    "        return 2 * 3.14 * self.radius\n",
    "    \n",
    "# Example of Encapsulation using a class\n",
    "class BankAccount:\n",
    "    def __init__(self, account_number, balance):\n",
    "        self.__account_number = account_number\n",
    "        self.__balance = balance\n",
    "        \n",
    "    def deposit(self, amount):\n",
    "        self.__balance += amount\n",
    "        \n",
    "    def withdraw(self, amount):\n",
    "        if self.__balance >= amount:\n",
    "            self.__balance -= amount\n",
    "        else:\n",
    "            print(\"Insufficient balance\")\n",
    "            \n",
    "    def get_balance(self):\n",
    "        return self.__balance"
   ]
  },
  {
   "cell_type": "code",
   "execution_count": 7,
   "id": "a8f9629a-b83f-4b28-b7bd-f9f0cb7e1d3a",
   "metadata": {},
   "outputs": [
    {
     "name": "stdout",
     "output_type": "stream",
     "text": [
      "Area of circle: 78.5\n",
      "Perimeter of circle: 31.400000000000002\n",
      "Current balance: 1000\n",
      "Current balance: 1500\n",
      "Insufficient balance\n",
      "Current balance: 1000\n"
     ]
    }
   ],
   "source": [
    "circle = Circle(5)\n",
    "print(\"Area of circle:\", circle.area())   \n",
    "print(\"Perimeter of circle:\", circle.perimeter()) \n",
    "\n",
    "account = BankAccount(\"123456789\", 1000)\n",
    "print(\"Current balance:\", account.get_balance())   \n",
    "account.deposit(500)\n",
    "print(\"Current balance:\", account.get_balance())   \n",
    "account.withdraw(2000)   \n",
    "account.withdraw(500)\n",
    "print(\"Current balance:\", account.get_balance())   "
   ]
  },
  {
   "cell_type": "markdown",
   "id": "17758726-54b0-4b5c-966d-5d1ff930883d",
   "metadata": {},
   "source": [
    "Q3. What is abc module in python? Why is it used?"
   ]
  },
  {
   "cell_type": "markdown",
   "id": "a781ca76-b20d-42da-b684-f61857a5ee18",
   "metadata": {},
   "source": [
    "The abc module in Python stands for Abstract Base Classes. It provides a way to define abstract base classes in Python. \n",
    "An abstract base class is a class that contains one or more abstract methods, which do not have an implementation in the base class. \n",
    "Instead, the implementation is provided by the derived classes that inherit from the abstract base class.\n",
    "\n",
    "The abc module is used to implement abstract classes and methods in Python. It allows us to define interfaces or contracts that\n",
    "must be implemented by the derived classes. This helps to enforce a certain structure and behavior in the derived classes,\n",
    "\n",
    "making them more predictable and easier to work with."
   ]
  },
  {
   "cell_type": "code",
   "execution_count": 8,
   "id": "5127ec98-6d28-4d94-9c3f-4ce3f3f12d1a",
   "metadata": {},
   "outputs": [
    {
     "name": "stdout",
     "output_type": "stream",
     "text": [
      "Woof!\n",
      "Meow!\n"
     ]
    }
   ],
   "source": [
    "from abc import ABC, abstractmethod\n",
    "\n",
    "class Animal(ABC):\n",
    "    @abstractmethod\n",
    "    def speak(self):\n",
    "        pass\n",
    "    \n",
    "class Dog(Animal):\n",
    "    def speak(self):\n",
    "        return \"Woof!\"\n",
    "    \n",
    "class Cat(Animal):\n",
    "    def speak(self):\n",
    "        return \"Meow!\"\n",
    "    \n",
    "\n",
    "animals = [Dog(), Cat()]\n",
    "\n",
    "for animal in animals:\n",
    "    print(animal.speak())"
   ]
  },
  {
   "cell_type": "markdown",
   "id": "1165d0a7-52fc-4705-9c87-9501c2a660bb",
   "metadata": {},
   "source": [
    "Q4. How can we achieve data abstraction?"
   ]
  },
  {
   "cell_type": "markdown",
   "id": "2b27650d-df72-4f68-9095-08183fc23aaa",
   "metadata": {},
   "source": [
    "*** Here are some ways to achieve data abstraction in Python:\n",
    "\n",
    "Define abstract classes: In Python, abstract classes can be defined using the abc module. By defining an abstract class,\n",
    "you can ensure that all derived classes implement the required methods.\n",
    "\n",
    "Use interfaces: Python does not have a built-in interface mechanism, but you can achieve similar functionality using abstract base classes.\n",
    "\n",
    "Use access modifiers: In Python, you can use access modifiers such as underscores to limit the visibility of certain data members or methods. \n",
    "For example, you can use a single underscore to indicate that a method or data member is intended to be private and should not be accessed from outside the class."
   ]
  },
  {
   "cell_type": "markdown",
   "id": "b5e65dc0-2f5b-41b5-b016-dcbc45335964",
   "metadata": {},
   "source": [
    "Q5. Can we create an instance of an abstract class? Explain your answer."
   ]
  },
  {
   "cell_type": "markdown",
   "id": "18f9808b-a89c-41da-b415-b395ba4155a9",
   "metadata": {},
   "source": [
    "No, we cannot create an instance of an abstract class in Python or any other object-oriented programming language. An abstract class is a class that contains one or more abstract methods, which do not have an implementation in the base class. Instead, the implementation is \n",
    "provided by the derived classes that inherit from the abstract base class.\n",
    "\n",
    "Since abstract classes are incomplete and do not have a complete implementation of all the required methods, \n",
    "they cannot be instantiated. Attempting to create an instance of an abstract class in Python will result in a TypeError"
   ]
  },
  {
   "cell_type": "code",
   "execution_count": 9,
   "id": "49775205-2e69-4fde-8c97-475947660f8f",
   "metadata": {},
   "outputs": [
    {
     "ename": "TypeError",
     "evalue": "Can't instantiate abstract class Animal with abstract method speak",
     "output_type": "error",
     "traceback": [
      "\u001b[0;31m---------------------------------------------------------------------------\u001b[0m",
      "\u001b[0;31mTypeError\u001b[0m                                 Traceback (most recent call last)",
      "Cell \u001b[0;32mIn[9], line 8\u001b[0m\n\u001b[1;32m      4\u001b[0m     \u001b[38;5;129m@abstractmethod\u001b[39m\n\u001b[1;32m      5\u001b[0m     \u001b[38;5;28;01mdef\u001b[39;00m \u001b[38;5;21mspeak\u001b[39m(\u001b[38;5;28mself\u001b[39m):\n\u001b[1;32m      6\u001b[0m         \u001b[38;5;28;01mpass\u001b[39;00m\n\u001b[0;32m----> 8\u001b[0m animal \u001b[38;5;241m=\u001b[39m \u001b[43mAnimal\u001b[49m\u001b[43m(\u001b[49m\u001b[43m)\u001b[49m  \u001b[38;5;66;03m# This will result in a TypeError\u001b[39;00m\n",
      "\u001b[0;31mTypeError\u001b[0m: Can't instantiate abstract class Animal with abstract method speak"
     ]
    }
   ],
   "source": [
    "from abc import ABC, abstractmethod\n",
    "\n",
    "class Animal(ABC):\n",
    "    @abstractmethod\n",
    "    def speak(self):\n",
    "        pass\n",
    "    \n",
    "animal = Animal()  # This will result in a TypeError"
   ]
  },
  {
   "cell_type": "code",
   "execution_count": null,
   "id": "55264dca-623d-46e1-a819-dbf55ef992af",
   "metadata": {},
   "outputs": [],
   "source": []
  }
 ],
 "metadata": {
  "kernelspec": {
   "display_name": "Python 3 (ipykernel)",
   "language": "python",
   "name": "python3"
  },
  "language_info": {
   "codemirror_mode": {
    "name": "ipython",
    "version": 3
   },
   "file_extension": ".py",
   "mimetype": "text/x-python",
   "name": "python",
   "nbconvert_exporter": "python",
   "pygments_lexer": "ipython3",
   "version": "3.10.8"
  }
 },
 "nbformat": 4,
 "nbformat_minor": 5
}
